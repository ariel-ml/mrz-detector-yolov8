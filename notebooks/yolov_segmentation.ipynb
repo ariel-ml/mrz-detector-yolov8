{
  "cells": [
    {
      "cell_type": "code",
      "execution_count": 1,
      "metadata": {
        "id": "coB1MGLSOab_"
      },
      "outputs": [],
      "source": [
        "import cv2\n",
        "import numpy as np\n",
        "from ultralytics import YOLO\n",
        "import matplotlib.pyplot as plt\n",
        "from ipynb_utils import cwd_to_root"
      ]
    },
    {
      "cell_type": "code",
      "execution_count": 2,
      "metadata": {},
      "outputs": [
        {
          "name": "stdout",
          "output_type": "stream",
          "text": [
            "Current working directory set to project root: /home/ariel/projects/deep-learning/yolov_mrz\n"
          ]
        }
      ],
      "source": [
        "cwd_to_root()"
      ]
    },
    {
      "cell_type": "markdown",
      "metadata": {},
      "source": [
        "## Segmentation"
      ]
    },
    {
      "cell_type": "code",
      "execution_count": 3,
      "metadata": {
        "id": "-UQWFJHPi9r1"
      },
      "outputs": [],
      "source": [
        "model = YOLO(\"models/yolov8n-seg.pt\")"
      ]
    },
    {
      "cell_type": "code",
      "execution_count": 4,
      "metadata": {
        "colab": {
          "base_uri": "https://localhost:8080/"
        },
        "id": "jKFUhy9LmDWP",
        "outputId": "587d7103-54f5-4d62-c75a-6b2731a35462"
      },
      "outputs": [
        {
          "name": "stdout",
          "output_type": "stream",
          "text": [
            "\n",
            "Downloading https://img.haymarketsac.in/autocarpro/f4ce7ae8-a9e0-4a77-8949-5caca1505709.jpg to 'f4ce7ae8-a9e0-4a77-8949-5caca1505709.jpg'...\n"
          ]
        },
        {
          "name": "stderr",
          "output_type": "stream",
          "text": [
            "100%|██████████| 158k/158k [00:00<00:00, 631kB/s] \n"
          ]
        },
        {
          "name": "stdout",
          "output_type": "stream",
          "text": [
            "image 1/1 /home/ariel/projects/deep-learning/yolov_mrz/f4ce7ae8-a9e0-4a77-8949-5caca1505709.jpg: 448x640 6 cars, 2 trucks, 124.9ms\n",
            "Speed: 1.9ms preprocess, 124.9ms inference, 105.0ms postprocess per image at shape (1, 3, 448, 640)\n"
          ]
        }
      ],
      "source": [
        "results = model(\n",
        "    \"https://img.haymarketsac.in/autocarpro/f4ce7ae8-a9e0-4a77-8949-5caca1505709.jpg\"\n",
        ")"
      ]
    },
    {
      "cell_type": "code",
      "execution_count": null,
      "metadata": {
        "id": "_hOTSNV7mNk6"
      },
      "outputs": [],
      "source": [
        "for result in results:\n",
        "    result.show()\n",
        "    # result.save(filename=\"seg_result.jpg\")"
      ]
    },
    {
      "cell_type": "code",
      "execution_count": 6,
      "metadata": {
        "id": "0da8I0qPo_Qz"
      },
      "outputs": [],
      "source": [
        "import locale\n",
        "\n",
        "locale.getpreferredencoding = lambda: \"UTF-8\""
      ]
    },
    {
      "cell_type": "code",
      "execution_count": 9,
      "metadata": {
        "colab": {
          "base_uri": "https://localhost:8080/"
        },
        "id": "vy3fwertmlkb",
        "outputId": "a5bd6b37-cb3d-4c2b-ba4b-dbe99fb80cb1"
      },
      "outputs": [
        {
          "name": "stdout",
          "output_type": "stream",
          "text": [
            "Ultralytics YOLOv8.1.30 🚀 Python-3.11.8 torch-2.2.2+cu121 CUDA:0 (NVIDIA GeForce RTX 3060 Laptop GPU, 5931MiB)\n",
            "YOLOv8n-seg summary (fused): 195 layers, 3404320 parameters, 0 gradients, 12.6 GFLOPs\n",
            "\n",
            "Downloading https://img.haymarketsac.in/autocarpro/f4ce7ae8-a9e0-4a77-8949-5caca1505709.jpg to 'f4ce7ae8-a9e0-4a77-8949-5caca1505709.jpg'...\n",
            "100%|█████████████████████████████████████████| 158k/158k [00:00<00:00, 607kB/s]\n",
            "image 1/1 /home/ariel/projects/deep-learning/yolov_mrz/f4ce7ae8-a9e0-4a77-8949-5caca1505709.jpg: 448x640 6 cars, 2 trucks, 109.7ms\n",
            "Speed: 2.0ms preprocess, 109.7ms inference, 116.9ms postprocess per image at shape (1, 3, 448, 640)\n",
            "Results saved to \u001b[1mruns/segment/predict2\u001b[0m\n",
            "💡 Learn more at https://docs.ultralytics.com/modes/predict\n"
          ]
        }
      ],
      "source": [
        "!yolo predict model=models/yolov8n-seg.pt source='https://img.haymarketsac.in/autocarpro/f4ce7ae8-a9e0-4a77-8949-5caca1505709.jpg'"
      ]
    }
  ],
  "metadata": {
    "colab": {
      "provenance": []
    },
    "kernelspec": {
      "display_name": "pytorch",
      "language": "python",
      "name": "python3"
    },
    "language_info": {
      "codemirror_mode": {
        "name": "ipython",
        "version": 3
      },
      "file_extension": ".py",
      "mimetype": "text/x-python",
      "name": "python",
      "nbconvert_exporter": "python",
      "pygments_lexer": "ipython3",
      "version": "3.11.8"
    }
  },
  "nbformat": 4,
  "nbformat_minor": 0
}
